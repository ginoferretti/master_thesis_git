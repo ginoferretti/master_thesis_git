{
 "cells": [
  {
   "cell_type": "code",
   "execution_count": null,
   "metadata": {},
   "outputs": [],
   "source": [
    "%run Source/1_ANN_ARCH.ipynb\n",
    "import matplotlib.pyplot as plt"
   ]
  },
  {
   "cell_type": "code",
   "execution_count": null,
   "metadata": {},
   "outputs": [],
   "source": [
    "#Index of end dates, database for validation and dataframe to collect the results are created. Model variables are defined.\n",
    "Start='1975-01-01'; End='2015-12-31'; Lag=1; LagSD=5; Dropout=0; LearningRate=0.01; Epochs=5000; Alpha=0.005; DF=4\n",
    "DataValidation = DatabaseGeneration(yf.download(\"^GSPC\",start=Start, end=End, progress=False), Lag, LagSD)\n",
    "plt.plot(DataValidation[\"DailyReturns\"], 'bo', markersize=1)"
   ]
  },
  {
   "cell_type": "code",
   "execution_count": null,
   "metadata": {},
   "outputs": [],
   "source": [
    "Fit_Total_SP=t.fit(DataValidation[\"DailyReturns\"])\n",
    "Fit_Total=t.fit(DataValidation.loc['2008-01-01':'2015-12-31'][\"DailyReturns\"])\n",
    "Fit_2008=t.fit(DataValidation.loc['2008-01-01':'2008-12-31'][\"DailyReturns\"])\n",
    "Fit_2009=t.fit(DataValidation.loc['2009-01-01':'2009-12-31'][\"DailyReturns\"])\n",
    "Fit_2010=t.fit(DataValidation.loc['2010-01-01':'2010-12-31'][\"DailyReturns\"])\n",
    "Fit_2011=t.fit(DataValidation.loc['2011-01-01':'2011-12-31'][\"DailyReturns\"])\n",
    "Fit_2012=t.fit(DataValidation.loc['2012-01-01':'2012-12-31'][\"DailyReturns\"])\n",
    "Fit_2013=t.fit(DataValidation.loc['2013-01-01':'2013-12-31'][\"DailyReturns\"])\n",
    "Fit_2014=t.fit(DataValidation.loc['2014-01-01':'2014-12-31'][\"DailyReturns\"])\n",
    "Fit_2015=t.fit(DataValidation.loc['2015-01-01':'2015-12-31'][\"DailyReturns\"])\n",
    "print(Fit_Total_SP[0])"
   ]
  }
 ],
 "metadata": {
  "kernelspec": {
   "display_name": "Python 3",
   "language": "python",
   "name": "python3"
  },
  "language_info": {
   "codemirror_mode": {
    "name": "ipython",
    "version": 3
   },
   "file_extension": ".py",
   "mimetype": "text/x-python",
   "name": "python",
   "nbconvert_exporter": "python",
   "pygments_lexer": "ipython3",
   "version": "3.10.5"
  }
 },
 "nbformat": 4,
 "nbformat_minor": 4
}
