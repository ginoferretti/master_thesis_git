{
 "cells": [
  {
   "cell_type": "code",
   "execution_count": null,
   "metadata": {},
   "outputs": [],
   "source": [
    "import pandas as pd\n",
    "import os\n",
    "import numpy as np\n",
    "from matplotlib import pyplot as plt\n",
    "import seaborn as sns\n",
    "from datetime import datetime\n",
    "import warnings\n",
    "from tabulate import tabulate\n",
    "\n",
    "\n",
    "warnings.filterwarnings(('ignore'))\n"
   ]
  },
  {
   "cell_type": "code",
   "execution_count": null,
   "metadata": {},
   "outputs": [],
   "source": [
    "final_results_df = pd.read_csv(r'Final_results_table.csv', sep=';')"
   ]
  },
  {
   "cell_type": "code",
   "execution_count": null,
   "metadata": {},
   "outputs": [],
   "source": [
    "final_results_df.head()"
   ]
  },
  {
   "cell_type": "code",
   "execution_count": null,
   "metadata": {},
   "outputs": [],
   "source": [
    "final_results_df['str_date'] = final_results_df['Date_Forecast']"
   ]
  },
  {
   "cell_type": "code",
   "execution_count": null,
   "metadata": {},
   "outputs": [],
   "source": [
    "final_results_df['Date_Forecast'] = pd.to_datetime(final_results_df['Date_Forecast'], format = r'%d/%m/%Y')"
   ]
  },
  {
   "cell_type": "code",
   "execution_count": null,
   "metadata": {},
   "outputs": [],
   "source": [
    "final_results_df = final_results_df.set_index('Date_Forecast')"
   ]
  },
  {
   "cell_type": "code",
   "execution_count": null,
   "metadata": {},
   "outputs": [],
   "source": [
    "final_results_df.columns"
   ]
  },
  {
   "cell_type": "code",
   "execution_count": null,
   "metadata": {},
   "outputs": [],
   "source": [
    "df_2018 = final_results_df.loc['2018-01-01':'2018-12-31', :]\n",
    "df_2019 = final_results_df.loc['2019-01-01':'2019-12-31', :]\n",
    "df_2020 = final_results_df.loc['2020-01-01':'2020-12-31', :]\n",
    "df_2021 = final_results_df.loc['2021-01-01':'2021-12-31', :]\n",
    "df_2022 = final_results_df.loc['2022-01-01':'2022-12-31', :]\n",
    "df_2023 = final_results_df.loc['2023-01-01':'2023-06-23', :]"
   ]
  },
  {
   "cell_type": "code",
   "execution_count": null,
   "metadata": {},
   "outputs": [],
   "source": [
    "df_year_list = [df_2018, df_2019, df_2020, df_2021, df_2022, df_2023]#use this instead of wrting every year"
   ]
  },
  {
   "cell_type": "code",
   "execution_count": null,
   "metadata": {},
   "outputs": [],
   "source": [
    "var_columns = ['VaR_ANN_ARCH', 'VaR_LSTM_ARCH',\n",
    "       'VaR_MT_ARCH', 'VaR_T_ARCH', 'VaR_MTL_ARCH', 'VaR_TL_ARCH',\n",
    "       'VaR_GRU_ARCH', 'VaR_MTG_ARCH', 'VaR_TG_ARCH', 'VaR_GARCH',\n",
    "       'VaR_GJR_GARCH', 'VaR_TGARCH', 'VaR_EGARCH', 'VaR_AVGARCH',\n",
    "       'VaR_FIGARCH']"
   ]
  },
  {
   "cell_type": "code",
   "execution_count": null,
   "metadata": {},
   "outputs": [],
   "source": [
    "def calculate_absolute_difference(row, column1, column2):\n",
    "    return abs(row[column1] - row[column2])\n",
    "\n",
    "def calculate_squared_difference(row, column1, column2):\n",
    "    return (row[column1] - row[column2])**2"
   ]
  },
  {
   "cell_type": "code",
   "execution_count": null,
   "metadata": {},
   "outputs": [],
   "source": [
    "for col in var_columns:\n",
    "\n",
    "    df_2018[f'{col}_abs_difference'] = df_2018.apply(calculate_absolute_difference, args=(col, 'TrueSD'), axis=1)\n",
    "    df_2019[f'{col}_abs_difference'] = df_2019.apply(calculate_absolute_difference, args=(col, 'TrueSD'), axis=1)\n",
    "    df_2020[f'{col}_abs_difference'] = df_2020.apply(calculate_absolute_difference, args=(col, 'TrueSD'), axis=1)\n",
    "    df_2021[f'{col}_abs_difference'] = df_2021.apply(calculate_absolute_difference, args=(col, 'TrueSD'), axis=1)\n",
    "    df_2022[f'{col}_abs_difference'] = df_2022.apply(calculate_absolute_difference, args=(col, 'TrueSD'), axis=1)\n",
    "    df_2023[f'{col}_abs_difference'] = df_2023.apply(calculate_absolute_difference, args=(col, 'TrueSD'), axis=1)\n",
    "\n",
    "    df_2018[f'{col}_squared_difference'] = df_2018.apply(calculate_squared_difference, args=(col, 'TrueSD'), axis=1)\n",
    "    df_2019[f'{col}_squared_difference'] = df_2019.apply(calculate_squared_difference, args=(col, 'TrueSD'), axis=1)\n",
    "    df_2020[f'{col}_squared_difference'] = df_2020.apply(calculate_squared_difference, args=(col, 'TrueSD'), axis=1)\n",
    "    df_2021[f'{col}_squared_difference'] = df_2021.apply(calculate_squared_difference, args=(col, 'TrueSD'), axis=1)\n",
    "    df_2022[f'{col}_squared_difference'] = df_2022.apply(calculate_squared_difference, args=(col, 'TrueSD'), axis=1)\n",
    "    df_2023[f'{col}_squared_difference'] = df_2023.apply(calculate_squared_difference, args=(col, 'TrueSD'), axis=1)"
   ]
  },
  {
   "cell_type": "code",
   "execution_count": null,
   "metadata": {},
   "outputs": [],
   "source": [
    "df_2023.head()"
   ]
  },
  {
   "cell_type": "code",
   "execution_count": null,
   "metadata": {},
   "outputs": [],
   "source": [
    "error_columns_squared = [\n",
    "       'VaR_ANN_ARCH_squared_difference', \n",
    "       'VaR_LSTM_ARCH_squared_difference', \n",
    "       'VaR_MT_ARCH_squared_difference',\n",
    "       'VaR_T_ARCH_squared_difference', \n",
    "       'VaR_MTL_ARCH_squared_difference', \n",
    "       'VaR_TL_ARCH_squared_difference', \n",
    "       'VaR_GRU_ARCH_squared_difference', \n",
    "       'VaR_MTG_ARCH_squared_difference', \n",
    "       'VaR_TG_ARCH_squared_difference',\n",
    "       'VaR_GARCH_squared_difference', \n",
    "       'VaR_GJR_GARCH_squared_difference',\n",
    "       'VaR_TGARCH_squared_difference',\n",
    "       'VaR_EGARCH_squared_difference', \n",
    "       'VaR_AVGARCH_squared_difference', \n",
    "       'VaR_FIGARCH_squared_difference']"
   ]
  },
  {
   "cell_type": "code",
   "execution_count": null,
   "metadata": {},
   "outputs": [],
   "source": [
    "error_columns_absolute = [\n",
    "       'VaR_ANN_ARCH_abs_difference', \n",
    "       'VaR_LSTM_ARCH_abs_difference', \n",
    "       'VaR_MT_ARCH_abs_difference',\n",
    "       'VaR_T_ARCH_abs_difference', \n",
    "       'VaR_MTL_ARCH_abs_difference', \n",
    "       'VaR_TL_ARCH_abs_difference', \n",
    "       'VaR_GRU_ARCH_abs_difference', \n",
    "       'VaR_MTG_ARCH_abs_difference', \n",
    "       'VaR_TG_ARCH_abs_difference',\n",
    "       'VaR_GARCH_abs_difference', \n",
    "       'VaR_GJR_GARCH_abs_difference',\n",
    "       'VaR_TGARCH_abs_difference',\n",
    "       'VaR_EGARCH_abs_difference', \n",
    "       'VaR_AVGARCH_abs_difference', \n",
    "       'VaR_FIGARCH_abs_difference']"
   ]
  },
  {
   "cell_type": "code",
   "execution_count": null,
   "metadata": {},
   "outputs": [],
   "source": [
    "for col in error_columns_squared:\n",
    "    df_2018[f'{col}_RMSE'] = df_2018[col].mean()**(1/2)\n",
    "    df_2019[f'{col}_RMSE'] = df_2019[col].mean()**(1/2)\n",
    "    df_2020[f'{col}_RMSE'] = df_2020[col].mean()**(1/2)\n",
    "    df_2021[f'{col}_RMSE'] = df_2021[col].mean()**(1/2)\n",
    "    df_2022[f'{col}_RMSE'] = df_2022[col].mean()**(1/2)\n",
    "    df_2023[f'{col}_RMSE'] = df_2023[col].mean()**(1/2)"
   ]
  },
  {
   "cell_type": "code",
   "execution_count": null,
   "metadata": {},
   "outputs": [],
   "source": [
    "for col in error_columns_absolute:\n",
    "    df_2018[f'{col}_MAE'] = df_2018[col].mean()\n",
    "    df_2019[f'{col}_MAE'] = df_2019[col].mean()\n",
    "    df_2020[f'{col}_MAE'] = df_2020[col].mean()\n",
    "    df_2021[f'{col}_MAE'] = df_2021[col].mean()\n",
    "    df_2022[f'{col}_MAE'] = df_2022[col].mean()\n",
    "    df_2023[f'{col}_MAE'] = df_2023[col].mean()"
   ]
  },
  {
   "cell_type": "code",
   "execution_count": null,
   "metadata": {},
   "outputs": [],
   "source": [
    "error_columns  = ['VaR_ANN_ARCH_squared_difference_RMSE',\n",
    "       'VaR_LSTM_ARCH_squared_difference_RMSE',\n",
    "       'VaR_MT_ARCH_squared_difference_RMSE',\n",
    "       'VaR_T_ARCH_squared_difference_RMSE',\n",
    "       'VaR_MTL_ARCH_squared_difference_RMSE',\n",
    "       'VaR_TL_ARCH_squared_difference_RMSE',\n",
    "       'VaR_GRU_ARCH_squared_difference_RMSE',\n",
    "       'VaR_MTG_ARCH_squared_difference_RMSE',\n",
    "       'VaR_TG_ARCH_squared_difference_RMSE',\n",
    "       'VaR_GARCH_squared_difference_RMSE',\n",
    "       'VaR_GJR_GARCH_squared_difference_RMSE',\n",
    "       'VaR_TGARCH_squared_difference_RMSE',\n",
    "       'VaR_EGARCH_squared_difference_RMSE',\n",
    "       'VaR_AVGARCH_squared_difference_RMSE',\n",
    "       'VaR_FIGARCH_squared_difference_RMSE',\n",
    "       'VaR_ANN_ARCH_abs_difference_MAE', 'VaR_LSTM_ARCH_abs_difference_MAE',\n",
    "       'VaR_MT_ARCH_abs_difference_MAE', 'VaR_T_ARCH_abs_difference_MAE',\n",
    "       'VaR_MTL_ARCH_abs_difference_MAE', 'VaR_TL_ARCH_abs_difference_MAE',\n",
    "       'VaR_GRU_ARCH_abs_difference_MAE', 'VaR_MTG_ARCH_abs_difference_MAE',\n",
    "       'VaR_TG_ARCH_abs_difference_MAE', 'VaR_GARCH_abs_difference_MAE',\n",
    "       'VaR_GJR_GARCH_abs_difference_MAE', 'VaR_TGARCH_abs_difference_MAE',\n",
    "       'VaR_EGARCH_abs_difference_MAE', 'VaR_AVGARCH_abs_difference_MAE',\n",
    "       'VaR_FIGARCH_abs_difference_MAE']"
   ]
  },
  {
   "cell_type": "code",
   "execution_count": null,
   "metadata": {},
   "outputs": [],
   "source": [
    "error_columns_RMSE = ['VaR_ANN_ARCH_squared_difference_RMSE',\n",
    "       'VaR_LSTM_ARCH_squared_difference_RMSE',\n",
    "       'VaR_MT_ARCH_squared_difference_RMSE',\n",
    "       'VaR_T_ARCH_squared_difference_RMSE',\n",
    "       'VaR_MTL_ARCH_squared_difference_RMSE',\n",
    "       'VaR_TL_ARCH_squared_difference_RMSE',\n",
    "       'VaR_GRU_ARCH_squared_difference_RMSE',\n",
    "       'VaR_MTG_ARCH_squared_difference_RMSE',\n",
    "       'VaR_TG_ARCH_squared_difference_RMSE',\n",
    "       'VaR_GARCH_squared_difference_RMSE',\n",
    "       'VaR_GJR_GARCH_squared_difference_RMSE',\n",
    "       'VaR_TGARCH_squared_difference_RMSE',\n",
    "       'VaR_EGARCH_squared_difference_RMSE',\n",
    "       'VaR_AVGARCH_squared_difference_RMSE',\n",
    "       'VaR_FIGARCH_squared_difference_RMSE']\n",
    "\n",
    "\n",
    "error_columns_MAE = ['VaR_ANN_ARCH_abs_difference_MAE', 'VaR_LSTM_ARCH_abs_difference_MAE',\n",
    "       'VaR_MT_ARCH_abs_difference_MAE', 'VaR_T_ARCH_abs_difference_MAE',\n",
    "       'VaR_MTL_ARCH_abs_difference_MAE', 'VaR_TL_ARCH_abs_difference_MAE',\n",
    "       'VaR_GRU_ARCH_abs_difference_MAE', 'VaR_MTG_ARCH_abs_difference_MAE',\n",
    "       'VaR_TG_ARCH_abs_difference_MAE', 'VaR_GARCH_abs_difference_MAE',\n",
    "       'VaR_GJR_GARCH_abs_difference_MAE', 'VaR_TGARCH_abs_difference_MAE',\n",
    "       'VaR_EGARCH_abs_difference_MAE', 'VaR_AVGARCH_abs_difference_MAE',\n",
    "       'VaR_FIGARCH_abs_difference_MAE']"
   ]
  },
  {
   "cell_type": "code",
   "execution_count": null,
   "metadata": {},
   "outputs": [],
   "source": [
    "df_errors_2018 = df_2018[error_columns].reset_index()\n",
    "df_errors_2019 = df_2019[error_columns].reset_index()\n",
    "df_errors_2020 = df_2020[error_columns].reset_index()\n",
    "df_errors_2021 = df_2021[error_columns].reset_index()\n",
    "df_errors_2022 = df_2022[error_columns].reset_index()\n",
    "df_errors_2023 = df_2023[error_columns].reset_index()"
   ]
  },
  {
   "cell_type": "code",
   "execution_count": null,
   "metadata": {},
   "outputs": [],
   "source": [
    "df_errors_2018 = df_errors_2018[df_errors_2018.index == 0].drop(columns = ['Date_Forecast'])\n",
    "df_errors_2019 = df_errors_2019[df_errors_2019.index == 0].drop(columns = ['Date_Forecast'])\n",
    "df_errors_2020 = df_errors_2020[df_errors_2020.index == 0].drop(columns = ['Date_Forecast'])\n",
    "df_errors_2021 = df_errors_2021[df_errors_2021.index == 0].drop(columns = ['Date_Forecast'])\n",
    "df_errors_2022 = df_errors_2022[df_errors_2022.index == 0].drop(columns = ['Date_Forecast'])\n",
    "df_errors_2023 = df_errors_2023[df_errors_2023.index == 0].drop(columns = ['Date_Forecast'])"
   ]
  },
  {
   "cell_type": "code",
   "execution_count": null,
   "metadata": {},
   "outputs": [],
   "source": [
    "df_errors_list = [df_errors_2018, df_errors_2019, df_errors_2020, df_errors_2021, df_errors_2022, df_errors_2023]"
   ]
  },
  {
   "cell_type": "code",
   "execution_count": null,
   "metadata": {},
   "outputs": [],
   "source": [
    "df_errors_total = pd.concat(df_errors_list)"
   ]
  },
  {
   "cell_type": "markdown",
   "metadata": {},
   "source": [
    "### **Plots**"
   ]
  },
  {
   "cell_type": "code",
   "execution_count": null,
   "metadata": {},
   "outputs": [],
   "source": [
    "full_df = pd.concat(df_year_list)"
   ]
  },
  {
   "cell_type": "code",
   "execution_count": null,
   "metadata": {},
   "outputs": [],
   "source": [
    "advanced_models_columns = ['Forecast_ANN_ARCH', 'Forecast_LSTM_ARCH', 'Forecast_MT_ARCH',\n",
    "       'Forecast_T_ARCH', 'Forecast_MTL_ARCH', 'Forecast_TL_ARCH',\n",
    "       'Forecast_GRU_ARCH', 'Forecast_MTG_ARCH', 'Forecast_TG_ARCH']"
   ]
  },
  {
   "cell_type": "code",
   "execution_count": null,
   "metadata": {},
   "outputs": [],
   "source": [
    "base_models_columns = ['Forecast_GARCH', 'Forecast_GJR_GARCH', 'Forecast_TGARCH',\n",
    "       'Forecast_EGARCH', 'Forecast_AVGARCH', 'Forecast_FIGARCH']"
   ]
  },
  {
   "cell_type": "markdown",
   "metadata": {},
   "source": [
    "# Multiplot plots for volatility forecasts ⤵️"
   ]
  },
  {
   "cell_type": "code",
   "execution_count": null,
   "metadata": {},
   "outputs": [],
   "source": [
    "fig, axes = plt.subplots(nrows = 3, ncols = 3, figsize = (15,15))\n",
    "\n",
    "for col, ax in zip(full_df[advanced_models_columns], axes.flatten()):\n",
    "\n",
    "    sns.lineplot(data = full_df, x = full_df.index, y = 'TrueSD', color = 'black', label = 'True Volatility', ax = ax).set_ylabel('Volatility')\n",
    "    sns.lineplot(data = full_df, x = full_df.index, y = col, color = 'red', label = f'{col}', ax = ax)\n",
    "\n",
    "plt.tight_layout()\n",
    "\n",
    "fig.savefig(os.path.join(r'plots_tesi\\volatility_advanced_models.png'))\n",
    "\n",
    "plt.show()"
   ]
  },
  {
   "cell_type": "code",
   "execution_count": null,
   "metadata": {},
   "outputs": [],
   "source": [
    "fig, axes = plt.subplots(nrows = 2, ncols = 3, figsize = (15,15))\n",
    "\n",
    "for col, ax in zip(full_df[base_models_columns], axes.flatten()):\n",
    "\n",
    "    sns.lineplot(data = full_df, x = full_df.index, y = 'TrueSD', color = 'black', label = 'True Volatility', ax = ax).set_ylabel('Volatility')\n",
    "    sns.lineplot(data = full_df, x = full_df.index, y = col, color = 'blue', label = f'{col}', ax = ax)\n",
    "\n",
    "plt.tight_layout()\n",
    "\n",
    "fig.savefig(os.path.join(r'plots_tesi\\volatility_base_GARCH_models.png'))\n",
    "\n",
    "plt.show()"
   ]
  },
  {
   "cell_type": "markdown",
   "metadata": {},
   "source": [
    "# Singleplot plots for volatility forecasts ⤵️"
   ]
  },
  {
   "cell_type": "code",
   "execution_count": null,
   "metadata": {},
   "outputs": [],
   "source": [
    "fig = plt.figure(figsize = (10,5))\n",
    "\n",
    "for col in advanced_models_columns:\n",
    "\n",
    "    sns.lineplot(data = full_df, x = full_df.index, y = 'TrueSD', color = 'black', label = 'True Volatility')\n",
    "    sns.lineplot(data = full_df, x = full_df.index, y = col, color = 'red', label = f'{col}')\n",
    "    plt.ylabel('Volatility')\n",
    "    plt.xlabel('Year')\n",
    "    plt.tight_layout()\n",
    "\n",
    "    fig.savefig(os.path.join(fr'plots_tesi\\{col}_vs_TrueSD.png'))\n",
    "\n",
    "    plt.clf()"
   ]
  },
  {
   "cell_type": "code",
   "execution_count": null,
   "metadata": {},
   "outputs": [],
   "source": [
    "fig = plt.figure(figsize = (10,5))\n",
    "\n",
    "for col in base_models_columns:\n",
    "\n",
    "    sns.lineplot(data = full_df, x = full_df.index, y = 'TrueSD', color = 'black', label = 'True Volatility')\n",
    "    sns.lineplot(data = full_df, x = full_df.index, y = col, color = 'blue', label = f'{col}')\n",
    "    plt.ylabel('Volatility')\n",
    "    plt.xlabel('Year')\n",
    "    plt.tight_layout()\n",
    "\n",
    "    fig.savefig(os.path.join(fr'plots_tesi\\{col}_vs_TrueSD.png'))\n",
    "\n",
    "    plt.clf()"
   ]
  },
  {
   "cell_type": "code",
   "execution_count": null,
   "metadata": {},
   "outputs": [],
   "source": [
    "#TODO In Forecast_GJR_GARCH the 17-03-2020 is bugged"
   ]
  },
  {
   "cell_type": "markdown",
   "metadata": {},
   "source": [
    "# Error plots for volatility forecasts ⤵️"
   ]
  },
  {
   "cell_type": "code",
   "execution_count": null,
   "metadata": {},
   "outputs": [],
   "source": [
    "error_columns_RMSE"
   ]
  },
  {
   "cell_type": "code",
   "execution_count": null,
   "metadata": {},
   "outputs": [],
   "source": [
    "error_columns_advanced_models_RMSE = ['VaR_ANN_ARCH_squared_difference_RMSE',\n",
    " 'VaR_LSTM_ARCH_squared_difference_RMSE',\n",
    " 'VaR_MT_ARCH_squared_difference_RMSE',\n",
    " 'VaR_T_ARCH_squared_difference_RMSE',\n",
    " 'VaR_MTL_ARCH_squared_difference_RMSE',\n",
    " 'VaR_TL_ARCH_squared_difference_RMSE',\n",
    " 'VaR_GRU_ARCH_squared_difference_RMSE',\n",
    " 'VaR_MTG_ARCH_squared_difference_RMSE',\n",
    " 'VaR_TG_ARCH_squared_difference_RMSE']"
   ]
  },
  {
   "cell_type": "code",
   "execution_count": null,
   "metadata": {},
   "outputs": [],
   "source": [
    "Year_index_col = ['2018-01-01', '2019-01-01', '2020-01-01', '2021-01-01', '2022-01-01', '2023-06-01']\n",
    "df_errors_total['Year_index'] = Year_index_col\n",
    "df_errors_total.set_index('Year_index', inplace= True)\n",
    "df_errors_total.index = pd.to_datetime(df_errors_total.index)"
   ]
  },
  {
   "cell_type": "code",
   "execution_count": null,
   "metadata": {},
   "outputs": [],
   "source": [
    "error_columns_MAE"
   ]
  },
  {
   "cell_type": "code",
   "execution_count": null,
   "metadata": {},
   "outputs": [],
   "source": [
    "fig, axes = plt.subplots(nrows = 1, ncols = 2, figsize = (10,5))\n",
    "\n",
    "ax1, ax2 = axes.flatten()\n",
    "\n",
    "ax1.set_title('ANN vs LSTM vs GRU performance RMSE')\n",
    "sns.lineplot(data = df_errors_total, x = df_errors_total.index, y = 'VaR_ANN_ARCH_squared_difference_RMSE', color = 'black', marker = 'o', label = 'ANN_ARCH_RMSE', ax= ax1).set_ylabel('Root Mean Square Error')\n",
    "sns.lineplot(data = df_errors_total, x = df_errors_total.index, y = 'VaR_LSTM_ARCH_squared_difference_RMSE', color = 'red', marker = 'o', label = 'LSTM_ARCH_RMSE', ax = ax1).set_xlabel('Year')\n",
    "sns.lineplot(data = df_errors_total, x = df_errors_total.index, y = 'VaR_GRU_ARCH_squared_difference_RMSE', color = 'blue', marker = 'o', label = 'GRU_ARCH_RMSE', ax = ax1)\n",
    "\n",
    "ax1.grid()\n",
    "\n",
    "ax2.set_title('ANN vs LSTM vs GRU performance MAE')\n",
    "sns.lineplot(data = df_errors_total, x = df_errors_total.index, y = 'VaR_ANN_ARCH_abs_difference_MAE', color = 'black', marker = 'o', label = 'ANN_ARCH_MAE', ax= ax2).set_ylabel('Root Mean Square Error')\n",
    "sns.lineplot(data = df_errors_total, x = df_errors_total.index, y = 'VaR_LSTM_ARCH_abs_difference_MAE', color = 'red', marker = 'o', label = 'LSTM_ARCH_MAE', ax = ax2).set_xlabel('Year')\n",
    "sns.lineplot(data = df_errors_total, x = df_errors_total.index, y = 'VaR_GRU_ARCH_abs_difference_MAE', color = 'blue', marker = 'o', label = 'GRU_ARCH_MAE', ax = ax2)\n",
    "\n",
    "ax2.grid()\n",
    "\n",
    "plt.tight_layout()\n",
    "\n",
    "fig.savefig(os.path.join(r'plots_tesi\\ANN_LSTM_GRU_RMSE_MAE_comparison.png'))\n",
    "\n",
    "plt.show()"
   ]
  },
  {
   "cell_type": "code",
   "execution_count": null,
   "metadata": {},
   "outputs": [],
   "source": [
    "fig, axes = plt.subplots(nrows = 1, ncols = 2, figsize = (10,5))\n",
    "\n",
    "ax1, ax2 = axes.flatten()\n",
    "\n",
    "ax1.set_title('MT vs MTL vs MTG performance RMSE')\n",
    "sns.lineplot(data = df_errors_total, x = df_errors_total.index, y = 'VaR_MT_ARCH_squared_difference_RMSE', color = 'black', marker = 'o', label = 'MT_ARCH_RMSE', ax= ax1).set_ylabel('Root Mean Square Error')\n",
    "sns.lineplot(data = df_errors_total, x = df_errors_total.index, y = 'VaR_MTL_ARCH_squared_difference_RMSE', color = 'red', marker = 'o', label = 'MTL_ARCH_RMSE', ax = ax1).set_xlabel('Year')\n",
    "sns.lineplot(data = df_errors_total, x = df_errors_total.index, y = 'VaR_MTG_ARCH_squared_difference_RMSE', color = 'blue', marker = 'o', label = 'MTG_ARCH_RMSE', ax = ax1)\n",
    "\n",
    "ax1.grid()\n",
    "\n",
    "ax2.set_title('MT vs MTL vs MTG performance MAE')\n",
    "sns.lineplot(data = df_errors_total, x = df_errors_total.index, y = 'VaR_MT_ARCH_abs_difference_MAE', color = 'black', marker = 'o', label = 'MT_ARCH_MAE', ax= ax2).set_ylabel('Root Mean Square Error')\n",
    "sns.lineplot(data = df_errors_total, x = df_errors_total.index, y = 'VaR_MTL_ARCH_abs_difference_MAE', color = 'red', marker = 'o', label = 'MTL_ARCH_MAE', ax = ax2).set_xlabel('Year')\n",
    "sns.lineplot(data = df_errors_total, x = df_errors_total.index, y = 'VaR_MTG_ARCH_abs_difference_MAE', color = 'blue', marker = 'o', label = 'MTG_ARCH_MAE', ax = ax2)\n",
    "\n",
    "ax2.grid()\n",
    "\n",
    "plt.tight_layout()\n",
    "\n",
    "fig.savefig(os.path.join(r'plots_tesi\\MT_MTL_MTG_RMSE_MAE_comparison.png'))\n",
    "\n",
    "plt.show()"
   ]
  },
  {
   "cell_type": "code",
   "execution_count": null,
   "metadata": {},
   "outputs": [],
   "source": [
    "fig, axes = plt.subplots(nrows = 1, ncols = 2, figsize = (10,5))\n",
    "\n",
    "ax1, ax2 = axes.flatten()\n",
    "\n",
    "ax1.set_title('T vs TL vs TG performance RMSE')\n",
    "sns.lineplot(data = df_errors_total, x = df_errors_total.index, y = 'VaR_T_ARCH_squared_difference_RMSE', color = 'black', marker = 'o', label = 'T_ARCH_RMSE', ax= ax1).set_ylabel('Root Mean Square Error')\n",
    "sns.lineplot(data = df_errors_total, x = df_errors_total.index, y = 'VaR_TL_ARCH_squared_difference_RMSE', color = 'red', marker = 'o', label = 'TL_ARCH_RMSE', ax = ax1).set_xlabel('Year')\n",
    "sns.lineplot(data = df_errors_total, x = df_errors_total.index, y = 'VaR_TG_ARCH_squared_difference_RMSE', color = 'blue', marker = 'o', label = 'TG_ARCH_RMSE', ax = ax1)\n",
    "\n",
    "ax1.grid()\n",
    "\n",
    "ax2.set_title('T vs TL vs TG performance MAE')\n",
    "sns.lineplot(data = df_errors_total, x = df_errors_total.index, y = 'VaR_T_ARCH_abs_difference_MAE', color = 'black', marker = 'o', label = 'T_ARCH_MAE', ax= ax2).set_ylabel('Root Mean Square Error')\n",
    "sns.lineplot(data = df_errors_total, x = df_errors_total.index, y = 'VaR_TL_ARCH_abs_difference_MAE', color = 'red', marker = 'o', label = 'TL_ARCH_MAE', ax = ax2).set_xlabel('Year')\n",
    "sns.lineplot(data = df_errors_total, x = df_errors_total.index, y = 'VaR_TG_ARCH_abs_difference_MAE', color = 'blue', marker = 'o', label = 'TG_ARCH_MAE', ax = ax2)\n",
    "\n",
    "ax2.grid()\n",
    "\n",
    "plt.tight_layout()\n",
    "\n",
    "fig.savefig(os.path.join(r'plots_tesi\\T_TL_TG_RMSE_MAE_comparison.png'))\n",
    "\n",
    "plt.show()"
   ]
  },
  {
   "cell_type": "code",
   "execution_count": null,
   "metadata": {},
   "outputs": [],
   "source": [
    "fig, axes = plt.subplots(nrows = 1, ncols = 2, figsize = (10,5))\n",
    "\n",
    "ax1, ax2 = axes.flatten()\n",
    "\n",
    "ax1.set_title('GARCHs performance RMSE')\n",
    "sns.lineplot(data = df_errors_total, x = df_errors_total.index, y = 'VaR_GARCH_squared_difference_RMSE', color = 'black', marker = 'o', label = 'GARCH_RMSE', ax= ax1).set_ylabel('Root Mean Square Error')\n",
    "sns.lineplot(data = df_errors_total, x = df_errors_total.index, y = 'VaR_GJR_GARCH_squared_difference_RMSE', color = 'red', marker = 'o', label = 'GJR_GARCH_RMSE', ax = ax1).set_xlabel('Year')\n",
    "sns.lineplot(data = df_errors_total, x = df_errors_total.index, y = 'VaR_TGARCH_squared_difference_RMSE', color = 'blue', marker = 'o', label = 'TGARCH_RMSE', ax = ax1)\n",
    "sns.lineplot(data = df_errors_total, x = df_errors_total.index, y = 'VaR_EGARCH_squared_difference_RMSE', color = 'green', marker = 'o', label = 'EGARCH_RMSE', ax = ax1)\n",
    "sns.lineplot(data = df_errors_total, x = df_errors_total.index, y = 'VaR_AVGARCH_squared_difference_RMSE', color = 'purple', marker = 'o', label = 'AVGARCH_RMSE', ax = ax1)\n",
    "sns.lineplot(data = df_errors_total, x = df_errors_total.index, y = 'VaR_FIGARCH_squared_difference_RMSE', color = 'orange', marker = 'o', label = 'FIGARCH_RMSE', ax = ax1)\n",
    "\n",
    "\n",
    "\n",
    "ax1.grid()\n",
    "\n",
    "ax2.set_title('GARCHs performance MAE')\n",
    "sns.lineplot(data = df_errors_total, x = df_errors_total.index, y = 'VaR_GARCH_abs_difference_MAE', color = 'black', marker = 'o', label = 'GARCH_MAE', ax= ax2).set_ylabel('Root Mean Square Error')\n",
    "sns.lineplot(data = df_errors_total, x = df_errors_total.index, y = 'VaR_GJR_GARCH_abs_difference_MAE', color = 'red', marker = 'o', label = 'GJR_GARCH_MAE', ax = ax2).set_xlabel('Year')\n",
    "sns.lineplot(data = df_errors_total, x = df_errors_total.index, y = 'VaR_TGARCH_abs_difference_MAE', color = 'blue', marker = 'o', label = 'TGARCH_MAE', ax = ax2)\n",
    "sns.lineplot(data = df_errors_total, x = df_errors_total.index, y = 'VaR_EGARCH_abs_difference_MAE', color = 'green', marker = 'o', label = 'EGARCH_RMSE', ax = ax2)\n",
    "sns.lineplot(data = df_errors_total, x = df_errors_total.index, y = 'VaR_AVGARCH_abs_difference_MAE', color = 'purple', marker = 'o', label = 'AVGARCH_RMSE', ax = ax2)\n",
    "sns.lineplot(data = df_errors_total, x = df_errors_total.index, y = 'VaR_FIGARCH_abs_difference_MAE', color = 'orange', marker = 'o', label = 'FIGARCH_RMSE', ax = ax2)\n",
    "\n",
    "ax2.grid()\n",
    "\n",
    "plt.tight_layout()\n",
    "\n",
    "fig.savefig(os.path.join(r'plots_tesi\\GARCHs_RMSE_MAE_comparison.png'))\n",
    "\n",
    "plt.show()"
   ]
  },
  {
   "cell_type": "code",
   "execution_count": null,
   "metadata": {},
   "outputs": [],
   "source": [
    "for col in df_errors_total.columns:\n",
    "    df_errors_total[f'{col}_overall_avg'] = df_errors_total[col].mean()"
   ]
  },
  {
   "cell_type": "code",
   "execution_count": null,
   "metadata": {},
   "outputs": [],
   "source": [
    "overall_error_columns = ['VaR_ANN_ARCH_squared_difference_RMSE_overall_avg',\n",
    "       'VaR_LSTM_ARCH_squared_difference_RMSE_overall_avg',\n",
    "       'VaR_MT_ARCH_squared_difference_RMSE_overall_avg',\n",
    "       'VaR_T_ARCH_squared_difference_RMSE_overall_avg',\n",
    "       'VaR_MTL_ARCH_squared_difference_RMSE_overall_avg',\n",
    "       'VaR_TL_ARCH_squared_difference_RMSE_overall_avg',\n",
    "       'VaR_GRU_ARCH_squared_difference_RMSE_overall_avg',\n",
    "       'VaR_MTG_ARCH_squared_difference_RMSE_overall_avg',\n",
    "       'VaR_TG_ARCH_squared_difference_RMSE_overall_avg',\n",
    "       'VaR_GARCH_squared_difference_RMSE_overall_avg',\n",
    "       'VaR_GJR_GARCH_squared_difference_RMSE_overall_avg',\n",
    "       'VaR_TGARCH_squared_difference_RMSE_overall_avg',\n",
    "       'VaR_EGARCH_squared_difference_RMSE_overall_avg',\n",
    "       'VaR_AVGARCH_squared_difference_RMSE_overall_avg',\n",
    "       'VaR_FIGARCH_squared_difference_RMSE_overall_avg',\n",
    "       'VaR_ANN_ARCH_abs_difference_MAE_overall_avg',\n",
    "       'VaR_LSTM_ARCH_abs_difference_MAE_overall_avg',\n",
    "       'VaR_MT_ARCH_abs_difference_MAE_overall_avg',\n",
    "       'VaR_T_ARCH_abs_difference_MAE_overall_avg',\n",
    "       'VaR_MTL_ARCH_abs_difference_MAE_overall_avg',\n",
    "       'VaR_T_ANN_ARCH_abs_difference_MAE_overall_avg',\n",
    "       'VaR_GRU_ARCH_abs_difference_MAE_overall_avg',\n",
    "       'VaR_MTG_ARCH_abs_difference_MAE_overall_avg',\n",
    "       'VaR_TG_ARCH_abs_difference_MAE_overall_avg',\n",
    "       'VaR_GARCH_abs_difference_MAE_overall_avg',\n",
    "       'VaR_GJR_GARCH_abs_difference_MAE_overall_avg',\n",
    "       'VaR_TGARCH_abs_difference_MAE_overall_avg',\n",
    "       'VaR_EGARCH_abs_difference_MAE_overall_avg',\n",
    "       'VaR_AVGARCH_abs_difference_MAE_overall_avg',\n",
    "       'VaR_FIGARCH_abs_difference_MAE_overall_avg']"
   ]
  },
  {
   "cell_type": "code",
   "execution_count": null,
   "metadata": {},
   "outputs": [],
   "source": [
    "overall_error_columns_RMSE = ['VaR_ANN_ARCH_squared_difference_RMSE_overall_avg',\n",
    "       'VaR_LSTM_ARCH_squared_difference_RMSE_overall_avg',\n",
    "       'VaR_MT_ARCH_squared_difference_RMSE_overall_avg',\n",
    "       'VaR_T_ARCH_squared_difference_RMSE_overall_avg',\n",
    "       'VaR_MTL_ARCH_squared_difference_RMSE_overall_avg',\n",
    "       'VaR_TL_ARCH_squared_difference_RMSE_overall_avg',\n",
    "       'VaR_GRU_ARCH_squared_difference_RMSE_overall_avg',\n",
    "       'VaR_MTG_ARCH_squared_difference_RMSE_overall_avg',\n",
    "       'VaR_TG_ARCH_squared_difference_RMSE_overall_avg',\n",
    "       'VaR_GARCH_squared_difference_RMSE_overall_avg',\n",
    "       'VaR_GJR_GARCH_squared_difference_RMSE_overall_avg',\n",
    "       'VaR_TGARCH_squared_difference_RMSE_overall_avg',\n",
    "       'VaR_EGARCH_squared_difference_RMSE_overall_avg',\n",
    "       'VaR_AVGARCH_squared_difference_RMSE_overall_avg',\n",
    "       'VaR_FIGARCH_squared_difference_RMSE_overall_avg']\n",
    "\n",
    "overall_error_columns_MAE = ['VaR_ANN_ARCH_abs_difference_MAE_overall_avg',\n",
    "       'VaR_LSTM_ARCH_abs_difference_MAE_overall_avg',\n",
    "       'VaR_MT_ARCH_abs_difference_MAE_overall_avg',\n",
    "       'VaR_T_ARCH_abs_difference_MAE_overall_avg',\n",
    "       'VaR_MTL_ARCH_abs_difference_MAE_overall_avg',\n",
    "       'VaR_TL_ARCH_abs_difference_MAE_overall_avg',\n",
    "       'VaR_GRU_ARCH_abs_difference_MAE_overall_avg',\n",
    "       'VaR_MTG_ARCH_abs_difference_MAE_overall_avg',\n",
    "       'VaR_TG_ARCH_abs_difference_MAE_overall_avg',\n",
    "       'VaR_GARCH_abs_difference_MAE_overall_avg',\n",
    "       'VaR_GJR_GARCH_abs_difference_MAE_overall_avg',\n",
    "       'VaR_TGARCH_abs_difference_MAE_overall_avg',\n",
    "       'VaR_EGARCH_abs_difference_MAE_overall_avg',\n",
    "       'VaR_AVGARCH_abs_difference_MAE_overall_avg',\n",
    "       'VaR_FIGARCH_abs_difference_MAE_overall_avg']"
   ]
  },
  {
   "cell_type": "code",
   "execution_count": null,
   "metadata": {},
   "outputs": [],
   "source": [
    "df_errors_total"
   ]
  },
  {
   "cell_type": "code",
   "execution_count": null,
   "metadata": {},
   "outputs": [],
   "source": [
    "df_errors_total[overall_error_columns_RMSE]"
   ]
  },
  {
   "cell_type": "code",
   "execution_count": null,
   "metadata": {},
   "outputs": [],
   "source": [
    "df_errors_total[overall_error_columns_MAE]"
   ]
  },
  {
   "cell_type": "code",
   "execution_count": null,
   "metadata": {},
   "outputs": [],
   "source": [
    "latex_table_RMSE = tabulate(df_errors_total[overall_error_columns_RMSE], tablefmt=\"latex\", headers=\"keys\")\n",
    "latex_table_MAE = tabulate(df_errors_total[overall_error_columns_MAE], tablefmt=\"latex\", headers=\"keys\")"
   ]
  },
  {
   "cell_type": "code",
   "execution_count": null,
   "metadata": {},
   "outputs": [],
   "source": [
    "print(latex_table_RMSE)"
   ]
  },
  {
   "cell_type": "code",
   "execution_count": null,
   "metadata": {},
   "outputs": [],
   "source": [
    "print(latex_table_MAE)"
   ]
  },
  {
   "cell_type": "code",
   "execution_count": null,
   "metadata": {},
   "outputs": [],
   "source": []
  },
  {
   "cell_type": "code",
   "execution_count": null,
   "metadata": {},
   "outputs": [],
   "source": []
  },
  {
   "cell_type": "code",
   "execution_count": null,
   "metadata": {},
   "outputs": [],
   "source": []
  }
 ],
 "metadata": {
  "kernelspec": {
   "display_name": "thesis_venv",
   "language": "python",
   "name": "python3"
  },
  "language_info": {
   "codemirror_mode": {
    "name": "ipython",
    "version": 3
   },
   "file_extension": ".py",
   "mimetype": "text/x-python",
   "name": "python",
   "nbconvert_exporter": "python",
   "pygments_lexer": "ipython3",
   "version": "3.10.5"
  },
  "orig_nbformat": 4
 },
 "nbformat": 4,
 "nbformat_minor": 2
}
