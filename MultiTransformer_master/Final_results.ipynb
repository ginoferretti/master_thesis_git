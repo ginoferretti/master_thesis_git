{
 "cells": [
  {
   "cell_type": "code",
   "execution_count": null,
   "metadata": {},
   "outputs": [],
   "source": [
    "import pandas as pd\n",
    "import os\n",
    "import numpy as np\n",
    "from matplotlib import pyplot as plt\n",
    "import seaborn as sns\n",
    "from datetime import datetime\n",
    "import warnings\n",
    "\n",
    "warnings.filterwarnings(('ignore'))\n"
   ]
  },
  {
   "cell_type": "code",
   "execution_count": null,
   "metadata": {},
   "outputs": [],
   "source": [
    "final_results_df = pd.read_csv(r'Final_results_table.csv', sep=';')"
   ]
  },
  {
   "cell_type": "code",
   "execution_count": null,
   "metadata": {},
   "outputs": [],
   "source": [
    "final_results_df.head()"
   ]
  },
  {
   "cell_type": "code",
   "execution_count": null,
   "metadata": {},
   "outputs": [],
   "source": [
    "final_results_df['str_date'] = final_results_df['Date_Forecast']"
   ]
  },
  {
   "cell_type": "code",
   "execution_count": null,
   "metadata": {},
   "outputs": [],
   "source": [
    "final_results_df['Date_Forecast'] = pd.to_datetime(final_results_df['Date_Forecast'], format = r'%d/%m/%Y')"
   ]
  },
  {
   "cell_type": "code",
   "execution_count": null,
   "metadata": {},
   "outputs": [],
   "source": [
    "final_results_df = final_results_df.set_index('Date_Forecast')"
   ]
  },
  {
   "cell_type": "code",
   "execution_count": null,
   "metadata": {},
   "outputs": [],
   "source": [
    "final_results_df.columns"
   ]
  },
  {
   "cell_type": "code",
   "execution_count": null,
   "metadata": {},
   "outputs": [],
   "source": [
    "df_2018 = final_results_df.loc['2018-01-01':'2018-12-31', :]\n",
    "df_2019 = final_results_df.loc['2019-01-01':'2019-12-31', :]\n",
    "df_2020 = final_results_df.loc['2020-01-01':'2020-12-31', :]\n",
    "df_2021 = final_results_df.loc['2021-01-01':'2021-12-31', :]\n",
    "df_2022 = final_results_df.loc['2022-01-01':'2022-12-31', :]\n",
    "df_2023 = final_results_df.loc['2023-01-01':'2018-06-23', :]"
   ]
  },
  {
   "cell_type": "code",
   "execution_count": null,
   "metadata": {},
   "outputs": [],
   "source": [
    "df_year_list = [df_2018, df_2019, df_2020, df_2021, df_2022, df_2023]#use this instead of wrting every year"
   ]
  },
  {
   "cell_type": "code",
   "execution_count": null,
   "metadata": {},
   "outputs": [],
   "source": [
    "var_columns = ['VaR_ANN_ARCH', 'VaR_LSTM_ARCH',\n",
    "       'VaR_MT_ARCH', 'VaR_T_ARCH', 'VaR_MTL_ARCH', 'VaR_T_ANN_ARCH',\n",
    "       'VaR_GRU_ARCH', 'VaR_MTG_ARCH', 'VaR_TG_ARCH', 'VaR_GARCH',\n",
    "       'VaR_GJR_GARCH', 'VaR_TARCH', 'VaR_EGARCH', 'VaR_AVGARCH',\n",
    "       'VaR_FIGARCH']"
   ]
  },
  {
   "cell_type": "code",
   "execution_count": null,
   "metadata": {},
   "outputs": [],
   "source": [
    "def calculate_absolute_difference(row, column1, column2):\n",
    "    return abs(row[column1] - row[column2])\n",
    "\n",
    "def calculate_squared_difference(row, column1, column2):\n",
    "    return (row[column1] - row[column2])**2"
   ]
  },
  {
   "cell_type": "code",
   "execution_count": null,
   "metadata": {},
   "outputs": [],
   "source": [
    "for col in var_columns:\n",
    "\n",
    "    df_2018[f'{col}_abs_difference'] = df_2018.apply(calculate_absolute_difference, args=(col, 'TrueSD'), axis=1)\n",
    "    df_2019[f'{col}_abs_difference'] = df_2019.apply(calculate_absolute_difference, args=(col, 'TrueSD'), axis=1)\n",
    "    df_2020[f'{col}_abs_difference'] = df_2020.apply(calculate_absolute_difference, args=(col, 'TrueSD'), axis=1)\n",
    "    df_2021[f'{col}_abs_difference'] = df_2021.apply(calculate_absolute_difference, args=(col, 'TrueSD'), axis=1)\n",
    "    df_2022[f'{col}_abs_difference'] = df_2022.apply(calculate_absolute_difference, args=(col, 'TrueSD'), axis=1)\n",
    "    df_2023[f'{col}_abs_difference'] = df_2023.apply(calculate_absolute_difference, args=(col, 'TrueSD'), axis=1)\n",
    "\n",
    "    df_2018[f'{col}_squared_difference'] = df_2018.apply(calculate_squared_difference, args=(col, 'TrueSD'), axis=1)\n",
    "    df_2019[f'{col}_squared_difference'] = df_2019.apply(calculate_squared_difference, args=(col, 'TrueSD'), axis=1)\n",
    "    df_2020[f'{col}_squared_difference'] = df_2020.apply(calculate_squared_difference, args=(col, 'TrueSD'), axis=1)\n",
    "    df_2021[f'{col}_squared_difference'] = df_2021.apply(calculate_squared_difference, args=(col, 'TrueSD'), axis=1)\n",
    "    df_2022[f'{col}_squared_difference'] = df_2022.apply(calculate_squared_difference, args=(col, 'TrueSD'), axis=1)\n",
    "    df_2023[f'{col}_squared_difference'] = df_2023.apply(calculate_squared_difference, args=(col, 'TrueSD'), axis=1)"
   ]
  },
  {
   "cell_type": "code",
   "execution_count": null,
   "metadata": {},
   "outputs": [],
   "source": [
    "df_2018.columns"
   ]
  },
  {
   "cell_type": "code",
   "execution_count": null,
   "metadata": {},
   "outputs": [],
   "source": [
    "error_columns_squared = [\n",
    "       'VaR_ANN_ARCH_squared_difference', \n",
    "       'VaR_LSTM_ARCH_squared_difference', \n",
    "       'VaR_MT_ARCH_squared_difference',\n",
    "       'VaR_T_ARCH_squared_difference', \n",
    "       'VaR_MTL_ARCH_squared_difference', \n",
    "       'VaR_T_ANN_ARCH_squared_difference', \n",
    "       'VaR_GRU_ARCH_squared_difference', \n",
    "       'VaR_MTG_ARCH_squared_difference', \n",
    "       'VaR_TG_ARCH_squared_difference',\n",
    "       'VaR_GARCH_squared_difference', \n",
    "       'VaR_GJR_GARCH_squared_difference',\n",
    "       'VaR_TARCH_squared_difference',\n",
    "       'VaR_EGARCH_squared_difference', \n",
    "       'VaR_AVGARCH_squared_difference', \n",
    "       'VaR_FIGARCH_squared_difference']"
   ]
  },
  {
   "cell_type": "code",
   "execution_count": null,
   "metadata": {},
   "outputs": [],
   "source": [
    "error_columns_absolute = [\n",
    "       'VaR_ANN_ARCH_abs_difference', \n",
    "       'VaR_LSTM_ARCH_abs_difference', \n",
    "       'VaR_MT_ARCH_abs_difference',\n",
    "       'VaR_T_ARCH_abs_difference', \n",
    "       'VaR_MTL_ARCH_abs_difference', \n",
    "       'VaR_T_ANN_ARCH_abs_difference', \n",
    "       'VaR_GRU_ARCH_abs_difference', \n",
    "       'VaR_MTG_ARCH_abs_difference', \n",
    "       'VaR_TG_ARCH_abs_difference',\n",
    "       'VaR_GARCH_abs_difference', \n",
    "       'VaR_GJR_GARCH_abs_difference',\n",
    "       'VaR_TARCH_abs_difference',\n",
    "       'VaR_EGARCH_abs_difference', \n",
    "       'VaR_AVGARCH_abs_difference', \n",
    "       'VaR_FIGARCH_abs_difference']"
   ]
  },
  {
   "cell_type": "code",
   "execution_count": null,
   "metadata": {},
   "outputs": [],
   "source": [
    "for col in error_columns_squared:\n",
    "    df_2018[f'{col}_RMSE'] = df_2018[col].mean()**(1/2)\n",
    "    df_2019[f'{col}_RMSE'] = df_2019[col].mean()**(1/2)\n",
    "    df_2020[f'{col}_RMSE'] = df_2020[col].mean()**(1/2)\n",
    "    df_2021[f'{col}_RMSE'] = df_2021[col].mean()**(1/2)\n",
    "    df_2022[f'{col}_RMSE'] = df_2022[col].mean()**(1/2)\n",
    "    df_2023[f'{col}_RMSE'] = df_2023[col].mean()**(1/2)"
   ]
  },
  {
   "cell_type": "code",
   "execution_count": null,
   "metadata": {},
   "outputs": [],
   "source": [
    "for col in error_columns_absolute:\n",
    "    df_2018[f'{col}_MAE'] = df_2018[col].mean()\n",
    "    df_2019[f'{col}_MAE'] = df_2019[col].mean()\n",
    "    df_2020[f'{col}_MAE'] = df_2020[col].mean()\n",
    "    df_2021[f'{col}_MAE'] = df_2021[col].mean()\n",
    "    df_2022[f'{col}_MAE'] = df_2022[col].mean()\n",
    "    df_2023[f'{col}_MAE'] = df_2023[col].mean()"
   ]
  },
  {
   "cell_type": "code",
   "execution_count": null,
   "metadata": {},
   "outputs": [],
   "source": [
    "df_2018.columns"
   ]
  },
  {
   "cell_type": "code",
   "execution_count": null,
   "metadata": {},
   "outputs": [],
   "source": [
    "error_columns  = ['VaR_ANN_ARCH_squared_difference_RMSE',\n",
    "       'VaR_LSTM_ARCH_squared_difference_RMSE',\n",
    "       'VaR_MT_ARCH_squared_difference_RMSE',\n",
    "       'VaR_T_ARCH_squared_difference_RMSE',\n",
    "       'VaR_MTL_ARCH_squared_difference_RMSE',\n",
    "       'VaR_T_ANN_ARCH_squared_difference_RMSE',\n",
    "       'VaR_GRU_ARCH_squared_difference_RMSE',\n",
    "       'VaR_MTG_ARCH_squared_difference_RMSE',\n",
    "       'VaR_TG_ARCH_squared_difference_RMSE',\n",
    "       'VaR_GARCH_squared_difference_RMSE',\n",
    "       'VaR_GJR_GARCH_squared_difference_RMSE',\n",
    "       'VaR_TARCH_squared_difference_RMSE',\n",
    "       'VaR_EGARCH_squared_difference_RMSE',\n",
    "       'VaR_AVGARCH_squared_difference_RMSE',\n",
    "       'VaR_FIGARCH_squared_difference_RMSE',\n",
    "       'VaR_ANN_ARCH_abs_difference_MAE', 'VaR_LSTM_ARCH_abs_difference_MAE',\n",
    "       'VaR_MT_ARCH_abs_difference_MAE', 'VaR_T_ARCH_abs_difference_MAE',\n",
    "       'VaR_MTL_ARCH_abs_difference_MAE', 'VaR_T_ANN_ARCH_abs_difference_MAE',\n",
    "       'VaR_GRU_ARCH_abs_difference_MAE', 'VaR_MTG_ARCH_abs_difference_MAE',\n",
    "       'VaR_TG_ARCH_abs_difference_MAE', 'VaR_GARCH_abs_difference_MAE',\n",
    "       'VaR_GJR_GARCH_abs_difference_MAE', 'VaR_TARCH_abs_difference_MAE',\n",
    "       'VaR_EGARCH_abs_difference_MAE', 'VaR_AVGARCH_abs_difference_MAE',\n",
    "       'VaR_FIGARCH_abs_difference_MAE']"
   ]
  },
  {
   "cell_type": "code",
   "execution_count": null,
   "metadata": {},
   "outputs": [],
   "source": [
    "df_2018.head()"
   ]
  },
  {
   "cell_type": "code",
   "execution_count": null,
   "metadata": {},
   "outputs": [],
   "source": [
    "df_errors_2018 = df_2018[error_columns].reset_index()\n",
    "df_errors_2019 = df_2019[error_columns].reset_index()\n",
    "df_errors_2020 = df_2020[error_columns].reset_index()\n",
    "df_errors_2021 = df_2021[error_columns].reset_index()\n",
    "df_errors_2022 = df_2022[error_columns].reset_index()\n",
    "df_errors_2023 = df_2023[error_columns].reset_index()"
   ]
  },
  {
   "cell_type": "code",
   "execution_count": null,
   "metadata": {},
   "outputs": [],
   "source": [
    "df_errors_2018 = df_errors_2018[df_errors_2018.index == 0].drop(columns = ['Date_Forecast'])\n",
    "df_errors_2019 = df_errors_2019[df_errors_2019.index == 0].drop(columns = ['Date_Forecast'])\n",
    "df_errors_2020 = df_errors_2020[df_errors_2020.index == 0].drop(columns = ['Date_Forecast'])\n",
    "df_errors_2021 = df_errors_2021[df_errors_2021.index == 0].drop(columns = ['Date_Forecast'])\n",
    "df_errors_2022 = df_errors_2022[df_errors_2022.index == 0].drop(columns = ['Date_Forecast'])\n",
    "df_errors_2023 = df_errors_2023[df_errors_2023.index == 0].drop(columns = ['Date_Forecast'])"
   ]
  },
  {
   "cell_type": "code",
   "execution_count": null,
   "metadata": {},
   "outputs": [],
   "source": [
    "df_errors_list = [df_errors_2018, df_errors_2019, df_errors_2020, df_errors_2021, df_errors_2022, df_errors_2023]"
   ]
  },
  {
   "cell_type": "code",
   "execution_count": null,
   "metadata": {},
   "outputs": [],
   "source": [
    "df_errors_total = pd.concat(df_errors_list)"
   ]
  },
  {
   "cell_type": "markdown",
   "metadata": {},
   "source": [
    "### **Plots**"
   ]
  },
  {
   "cell_type": "code",
   "execution_count": null,
   "metadata": {},
   "outputs": [],
   "source": [
    "full_df = pd.concat(df_year_list)"
   ]
  },
  {
   "cell_type": "code",
   "execution_count": null,
   "metadata": {},
   "outputs": [],
   "source": [
    "full_df.columns"
   ]
  },
  {
   "cell_type": "code",
   "execution_count": null,
   "metadata": {},
   "outputs": [],
   "source": [
    "advanced_models_columns = ['Forecast_ANN_ARCH', 'Forecast_LSTM_ARCH', 'Forecast_MT_ARCH',\n",
    "       'Forecast_T_ARCH', 'Forecast_MTL_ARCH', 'Forecast_TL_ARCH',\n",
    "       'Forecast_GRU_ARCH', 'Forecast_MTG_ARCH', 'Forecast_TG_ARCH']"
   ]
  },
  {
   "cell_type": "code",
   "execution_count": null,
   "metadata": {},
   "outputs": [],
   "source": [
    "fig, axes = plt.subplots(nrows = 3, ncols = 3, figsize = (15,15))\n",
    "\n",
    "for col, ax in zip(full_df[advanced_models_columns], axes.flatten()):\n",
    "\n",
    "    sns.lineplot(data = full_df, x = full_df.index, y = 'TrueSD', color = 'black', label = 'True Volatility', ax = ax).set_ylabel('Volatility')\n",
    "    sns.lineplot(data = full_df, x = full_df.index, y = col, color = 'red', label = f'{col}', ax = ax)\n",
    "\n",
    "plt.tight_layout()\n",
    "plt.show()"
   ]
  },
  {
   "cell_type": "code",
   "execution_count": null,
   "metadata": {},
   "outputs": [],
   "source": []
  },
  {
   "cell_type": "code",
   "execution_count": null,
   "metadata": {},
   "outputs": [],
   "source": []
  }
 ],
 "metadata": {
  "kernelspec": {
   "display_name": "thesis_venv",
   "language": "python",
   "name": "python3"
  },
  "language_info": {
   "codemirror_mode": {
    "name": "ipython",
    "version": 3
   },
   "file_extension": ".py",
   "mimetype": "text/x-python",
   "name": "python",
   "nbconvert_exporter": "python",
   "pygments_lexer": "ipython3",
   "version": "3.10.5"
  },
  "orig_nbformat": 4
 },
 "nbformat": 4,
 "nbformat_minor": 2
}
